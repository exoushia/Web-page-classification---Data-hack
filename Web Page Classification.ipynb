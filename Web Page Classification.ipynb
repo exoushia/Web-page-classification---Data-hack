{
 "cells": [
  {
   "cell_type": "markdown",
   "metadata": {},
   "source": [
    "## Web Page Classification\n",
    "\n",
    "Classification of Web page content is vital to many tasks in Web information retrieval such as maintaining Web directories and focused crawling which is used to selectively seek out web pages that are relevant to a pre-defined set of topics.\n",
    "\n",
    "### Why do we need Web Page Classification?\n",
    "\n",
    "As an example, collecting and mining personal content on patients’ experiences with respect to disease symptoms and progression, treatment management, side effects and effectivenes can be very helpful in understanding a disease better.\n",
    "\n",
    "The understanding attainable through mining this voluntarily contributed web content would be extremely expensive and time-consuming to capture via web queries. For example, a general query such as ‘breast cancer stories’ would pull up over 182 million results using Google web search.\n",
    "\n",
    "However, if we can build an accurate classifier to pinpoint the right web pages that precisely contains patients' experiences using the URLs and page content, it can save a lot of time and compute for collecting this information."
   ]
  },
  {
   "cell_type": "markdown",
   "metadata": {},
   "source": [
    "## Problem Statement\n",
    "\n",
    "\n",
    "\n",
    "In this case study, we are provided with URLs from 53000+ web pages. The objective is to build a classifier that can classify the web pages into their respective classes (Each web page can belong to only 1 class).\n",
    "\n",
    "Basically given the complete url, predict the tag a web page belongs to out of 9 predefined tags as given below:\n",
    "* People profile\n",
    "* Conferences/Congress\n",
    "* Forums\n",
    "* News article\n",
    "* Clinical trials\n",
    "* Publication\n",
    "* Thesis\n",
    "* Guidelines\n",
    "* Others\n"
   ]
  },
  {
   "cell_type": "markdown",
   "metadata": {},
   "source": [
    "## Data Description\n",
    "\n",
    "The dataset contains the following features:\n",
    "* web page_ID: Unique ID for the web page (1,2,3.... )\n",
    "* Domain: Domain of the web page (Example: www.fiercepharma.com)\n",
    "* Url: Complete URL of the web page (Example: http://www.fiercepharma.com/marketing/tecfidera-gilenya-and-aubagio-s-3-way-battle-for-ms-share-about-to-get-more-interesting)\n",
    "* Tag: (Target) Tag (class) of the web page\n",
    "\n",
    "The objective here is to predict the class of the web page from the above mentioned 9 classes."
   ]
  },
  {
   "cell_type": "markdown",
   "metadata": {},
   "source": [
    "### Import Packages"
   ]
  },
  {
   "cell_type": "markdown",
   "metadata": {},
   "source": [
    "https://towardsdatascience.com/progress-bars-in-python-4b44e8a4c482\n",
    "\n",
    "### Progress Bars in Python\n",
    "\n",
    "Progress bars can help make data processing jobs less of a headache because:\n",
    "\n",
    "* You get a reliable estimate of how long it will take.\n",
    "* You can see immediately if it’s gotten stuck."
   ]
  },
  {
   "cell_type": "code",
   "execution_count": null,
   "metadata": {},
   "outputs": [],
   "source": [
    "import sys\n",
    "\n",
    "!{sys.executable} -m pip install ipywidgets"
   ]
  },
  {
   "cell_type": "code",
   "execution_count": null,
   "metadata": {},
   "outputs": [],
   "source": [
    "jupyter nbextension enable --py widgetsnbextension\n",
    "jupyter labextension install @jupyter-widgets/jupyterlab-manager"
   ]
  },
  {
   "cell_type": "code",
   "execution_count": null,
   "metadata": {},
   "outputs": [],
   "source": [
    "%%capture\n",
    "from tqdm import tqdm_notebook as tqdm\n",
    "tqdm().pandas()"
   ]
  },
  {
   "cell_type": "code",
   "execution_count": 1,
   "metadata": {},
   "outputs": [
    {
     "name": "stdout",
     "output_type": "stream",
     "text": [
      "/usr/bin/python3\n"
     ]
    }
   ],
   "source": [
    "import sys\n",
    "print(sys.executable)"
   ]
  },
  {
   "cell_type": "code",
   "execution_count": 1,
   "metadata": {},
   "outputs": [],
   "source": [
    "# !{sys.executable} -m pip install wordcloud"
   ]
  },
  {
   "cell_type": "code",
   "execution_count": 11,
   "metadata": {},
   "outputs": [],
   "source": [
    "import pandas as pd\n",
    "import numpy as np\n",
    "import re\n",
    "import matplotlib.pyplot as plt\n",
    "import seaborn as sns\n",
    "color = sns.color_palette()\n",
    "#from tqdm import tqdm\n",
    "from urllib.parse import urlparse\n",
    "pd.set_option(\"display.max_colwidth\", 200)\n",
    "import warnings\n",
    "warnings.filterwarnings('ignore')\n",
    "from sklearn.pipeline import FeatureUnion\n",
    "from sklearn.model_selection import cross_val_predict, GroupKFold\n",
    "from sklearn.pipeline import FeatureUnion\n",
    "from sklearn.tree import DecisionTreeClassifier\n",
    "from sklearn.metrics import f1_score, confusion_matrix\n",
    "from sklearn.linear_model import LogisticRegression\n",
    "from sklearn.feature_extraction.text import TfidfVectorizer, CountVectorizer\n",
    "from sklearn.naive_bayes import BernoulliNB, ComplementNB, MultinomialNB\n",
    "from sklearn.ensemble import RandomForestClassifier\n",
    "from scipy.sparse import hstack\n",
    "%matplotlib inline"
   ]
  },
  {
   "cell_type": "markdown",
   "metadata": {},
   "source": [
    "### Load Datasets"
   ]
  },
  {
   "cell_type": "code",
   "execution_count": 12,
   "metadata": {},
   "outputs": [],
   "source": [
    "df = pd.read_csv(\"webpage data.csv\")\n"
   ]
  },
  {
   "cell_type": "markdown",
   "metadata": {},
   "source": [
    "### Basic Exploration"
   ]
  },
  {
   "cell_type": "code",
   "execution_count": 13,
   "metadata": {},
   "outputs": [
    {
     "data": {
      "text/plain": [
       "(53229, 4)"
      ]
     },
     "execution_count": 13,
     "metadata": {},
     "output_type": "execute_result"
    }
   ],
   "source": [
    "df.shape"
   ]
  },
  {
   "cell_type": "code",
   "execution_count": 14,
   "metadata": {},
   "outputs": [
    {
     "data": {
      "text/html": [
       "<div>\n",
       "<style scoped>\n",
       "    .dataframe tbody tr th:only-of-type {\n",
       "        vertical-align: middle;\n",
       "    }\n",
       "\n",
       "    .dataframe tbody tr th {\n",
       "        vertical-align: top;\n",
       "    }\n",
       "\n",
       "    .dataframe thead th {\n",
       "        text-align: right;\n",
       "    }\n",
       "</style>\n",
       "<table border=\"1\" class=\"dataframe\">\n",
       "  <thead>\n",
       "    <tr style=\"text-align: right;\">\n",
       "      <th></th>\n",
       "      <th>Webpage_id</th>\n",
       "      <th>Domain</th>\n",
       "      <th>Url</th>\n",
       "      <th>Tag</th>\n",
       "    </tr>\n",
       "  </thead>\n",
       "  <tbody>\n",
       "    <tr>\n",
       "      <th>0</th>\n",
       "      <td>1</td>\n",
       "      <td>www.fiercepharma.com</td>\n",
       "      <td>http://www.fiercepharma.com/marketing/tecfidera-gilenya-and-aubagio-s-3-way-battle-for-ms-share-about-to-get-more-interesting</td>\n",
       "      <td>news</td>\n",
       "    </tr>\n",
       "    <tr>\n",
       "      <th>1</th>\n",
       "      <td>2</td>\n",
       "      <td>www.fiercepharma.com</td>\n",
       "      <td>http://www.fiercepharma.com/pharma/novo-equipped-to-weather-storm-u-s-diabetes-market-ceo-says</td>\n",
       "      <td>news</td>\n",
       "    </tr>\n",
       "    <tr>\n",
       "      <th>2</th>\n",
       "      <td>3</td>\n",
       "      <td>www.fiercepharma.com</td>\n",
       "      <td>http://www.fiercepharma.com/pharma/another-exec-departs-troubled-endo-and-time-it-s-for-another-drugmaker</td>\n",
       "      <td>news</td>\n",
       "    </tr>\n",
       "    <tr>\n",
       "      <th>3</th>\n",
       "      <td>4</td>\n",
       "      <td>www.fiercepharma.com</td>\n",
       "      <td>http://www.fiercepharma.com/pharma/teva-buy-biosim-specialist-celltrion-it-wouldn-t-say-no</td>\n",
       "      <td>news</td>\n",
       "    </tr>\n",
       "    <tr>\n",
       "      <th>4</th>\n",
       "      <td>5</td>\n",
       "      <td>www.fiercepharma.com</td>\n",
       "      <td>http://www.fiercepharma.com/marketing/actress-marissa-tomei-partners-allergan-restasis-to-drive-dry-eye-awareness</td>\n",
       "      <td>news</td>\n",
       "    </tr>\n",
       "  </tbody>\n",
       "</table>\n",
       "</div>"
      ],
      "text/plain": [
       "   Webpage_id                Domain  \\\n",
       "0           1  www.fiercepharma.com   \n",
       "1           2  www.fiercepharma.com   \n",
       "2           3  www.fiercepharma.com   \n",
       "3           4  www.fiercepharma.com   \n",
       "4           5  www.fiercepharma.com   \n",
       "\n",
       "                                                                                                                             Url  \\\n",
       "0  http://www.fiercepharma.com/marketing/tecfidera-gilenya-and-aubagio-s-3-way-battle-for-ms-share-about-to-get-more-interesting   \n",
       "1                                 http://www.fiercepharma.com/pharma/novo-equipped-to-weather-storm-u-s-diabetes-market-ceo-says   \n",
       "2                      http://www.fiercepharma.com/pharma/another-exec-departs-troubled-endo-and-time-it-s-for-another-drugmaker   \n",
       "3                                     http://www.fiercepharma.com/pharma/teva-buy-biosim-specialist-celltrion-it-wouldn-t-say-no   \n",
       "4              http://www.fiercepharma.com/marketing/actress-marissa-tomei-partners-allergan-restasis-to-drive-dry-eye-awareness   \n",
       "\n",
       "    Tag  \n",
       "0  news  \n",
       "1  news  \n",
       "2  news  \n",
       "3  news  \n",
       "4  news  "
      ]
     },
     "execution_count": 14,
     "metadata": {},
     "output_type": "execute_result"
    }
   ],
   "source": [
    "df.head()"
   ]
  },
  {
   "cell_type": "code",
   "execution_count": 15,
   "metadata": {},
   "outputs": [
    {
     "data": {
      "text/plain": [
       "array(['news', 'clinicalTrials', 'conferences', 'profile', 'forum',\n",
       "       'publication', 'thesis', 'guidelines', 'others'], dtype=object)"
      ]
     },
     "execution_count": 15,
     "metadata": {},
     "output_type": "execute_result"
    }
   ],
   "source": [
    "df['Tag'].unique()"
   ]
  },
  {
   "cell_type": "markdown",
   "metadata": {},
   "source": [
    "As mentioned in the problem statement, there are 9 separate categories. Let us have a look at a few samples from each category to hav"
   ]
  },
  {
   "cell_type": "markdown",
   "metadata": {},
   "source": [
    "#### Public Profiles"
   ]
  },
  {
   "cell_type": "code",
   "execution_count": 16,
   "metadata": {},
   "outputs": [
    {
     "data": {
      "text/html": [
       "<div>\n",
       "<style scoped>\n",
       "    .dataframe tbody tr th:only-of-type {\n",
       "        vertical-align: middle;\n",
       "    }\n",
       "\n",
       "    .dataframe tbody tr th {\n",
       "        vertical-align: top;\n",
       "    }\n",
       "\n",
       "    .dataframe thead th {\n",
       "        text-align: right;\n",
       "    }\n",
       "</style>\n",
       "<table border=\"1\" class=\"dataframe\">\n",
       "  <thead>\n",
       "    <tr style=\"text-align: right;\">\n",
       "      <th></th>\n",
       "      <th>Webpage_id</th>\n",
       "      <th>Domain</th>\n",
       "      <th>Url</th>\n",
       "      <th>Tag</th>\n",
       "    </tr>\n",
       "  </thead>\n",
       "  <tbody>\n",
       "    <tr>\n",
       "      <th>3476</th>\n",
       "      <td>5096</td>\n",
       "      <td>www.healthcare4ppl.com</td>\n",
       "      <td>http://www.healthcare4ppl.com/physician/wisconsin/waukesha/andrew-v-beykovsky-1114036092.html</td>\n",
       "      <td>profile</td>\n",
       "    </tr>\n",
       "    <tr>\n",
       "      <th>3477</th>\n",
       "      <td>5097</td>\n",
       "      <td>www.healthcare4ppl.com</td>\n",
       "      <td>http://www.healthcare4ppl.com/physician/west-virginia/morgantown/clare-m-mcdaniel-1346231032.html</td>\n",
       "      <td>profile</td>\n",
       "    </tr>\n",
       "  </tbody>\n",
       "</table>\n",
       "</div>"
      ],
      "text/plain": [
       "      Webpage_id                  Domain  \\\n",
       "3476        5096  www.healthcare4ppl.com   \n",
       "3477        5097  www.healthcare4ppl.com   \n",
       "\n",
       "                                                                                                    Url  \\\n",
       "3476      http://www.healthcare4ppl.com/physician/wisconsin/waukesha/andrew-v-beykovsky-1114036092.html   \n",
       "3477  http://www.healthcare4ppl.com/physician/west-virginia/morgantown/clare-m-mcdaniel-1346231032.html   \n",
       "\n",
       "          Tag  \n",
       "3476  profile  \n",
       "3477  profile  "
      ]
     },
     "execution_count": 16,
     "metadata": {},
     "output_type": "execute_result"
    }
   ],
   "source": [
    "df[df['Tag'] == 'profile'].head(2)"
   ]
  },
  {
   "cell_type": "markdown",
   "metadata": {},
   "source": [
    "#### Conferences/Congress"
   ]
  },
  {
   "cell_type": "code",
   "execution_count": 17,
   "metadata": {},
   "outputs": [
    {
     "data": {
      "text/html": [
       "<div>\n",
       "<style scoped>\n",
       "    .dataframe tbody tr th:only-of-type {\n",
       "        vertical-align: middle;\n",
       "    }\n",
       "\n",
       "    .dataframe tbody tr th {\n",
       "        vertical-align: top;\n",
       "    }\n",
       "\n",
       "    .dataframe thead th {\n",
       "        text-align: right;\n",
       "    }\n",
       "</style>\n",
       "<table border=\"1\" class=\"dataframe\">\n",
       "  <thead>\n",
       "    <tr style=\"text-align: right;\">\n",
       "      <th></th>\n",
       "      <th>Webpage_id</th>\n",
       "      <th>Domain</th>\n",
       "      <th>Url</th>\n",
       "      <th>Tag</th>\n",
       "    </tr>\n",
       "  </thead>\n",
       "  <tbody>\n",
       "    <tr>\n",
       "      <th>550</th>\n",
       "      <td>1028</td>\n",
       "      <td>investors.alphatecspine.com</td>\n",
       "      <td>http://investors.alphatecspine.com/events.cfm</td>\n",
       "      <td>conferences</td>\n",
       "    </tr>\n",
       "    <tr>\n",
       "      <th>1033</th>\n",
       "      <td>1773</td>\n",
       "      <td>ir.alk.net</td>\n",
       "      <td>http://ir.alk.net/events.cfm</td>\n",
       "      <td>conferences</td>\n",
       "    </tr>\n",
       "  </tbody>\n",
       "</table>\n",
       "</div>"
      ],
      "text/plain": [
       "      Webpage_id                       Domain  \\\n",
       "550         1028  investors.alphatecspine.com   \n",
       "1033        1773                   ir.alk.net   \n",
       "\n",
       "                                                Url          Tag  \n",
       "550   http://investors.alphatecspine.com/events.cfm  conferences  \n",
       "1033                   http://ir.alk.net/events.cfm  conferences  "
      ]
     },
     "execution_count": 17,
     "metadata": {},
     "output_type": "execute_result"
    }
   ],
   "source": [
    "df[df['Tag'] == 'conferences'].head(2)"
   ]
  },
  {
   "cell_type": "markdown",
   "metadata": {},
   "source": [
    "#### Forum"
   ]
  },
  {
   "cell_type": "code",
   "execution_count": 18,
   "metadata": {},
   "outputs": [
    {
     "data": {
      "text/html": [
       "<div>\n",
       "<style scoped>\n",
       "    .dataframe tbody tr th:only-of-type {\n",
       "        vertical-align: middle;\n",
       "    }\n",
       "\n",
       "    .dataframe tbody tr th {\n",
       "        vertical-align: top;\n",
       "    }\n",
       "\n",
       "    .dataframe thead th {\n",
       "        text-align: right;\n",
       "    }\n",
       "</style>\n",
       "<table border=\"1\" class=\"dataframe\">\n",
       "  <thead>\n",
       "    <tr style=\"text-align: right;\">\n",
       "      <th></th>\n",
       "      <th>Webpage_id</th>\n",
       "      <th>Domain</th>\n",
       "      <th>Url</th>\n",
       "      <th>Tag</th>\n",
       "    </tr>\n",
       "  </thead>\n",
       "  <tbody>\n",
       "    <tr>\n",
       "      <th>3689</th>\n",
       "      <td>5549</td>\n",
       "      <td>community.beatingbowelcancer.org</td>\n",
       "      <td>http://community.beatingbowelcancer.org/forum/926-post-op</td>\n",
       "      <td>forum</td>\n",
       "    </tr>\n",
       "    <tr>\n",
       "      <th>3765</th>\n",
       "      <td>5714</td>\n",
       "      <td>rollitup.org</td>\n",
       "      <td>http://rollitup.org/t/someguys-led-other-grows-2014-15-season.851562/page-82</td>\n",
       "      <td>forum</td>\n",
       "    </tr>\n",
       "  </tbody>\n",
       "</table>\n",
       "</div>"
      ],
      "text/plain": [
       "      Webpage_id                            Domain  \\\n",
       "3689        5549  community.beatingbowelcancer.org   \n",
       "3765        5714                      rollitup.org   \n",
       "\n",
       "                                                                               Url  \\\n",
       "3689                     http://community.beatingbowelcancer.org/forum/926-post-op   \n",
       "3765  http://rollitup.org/t/someguys-led-other-grows-2014-15-season.851562/page-82   \n",
       "\n",
       "        Tag  \n",
       "3689  forum  \n",
       "3765  forum  "
      ]
     },
     "execution_count": 18,
     "metadata": {},
     "output_type": "execute_result"
    }
   ],
   "source": [
    "df[df['Tag'] == 'forum'].head(2)"
   ]
  },
  {
   "cell_type": "markdown",
   "metadata": {},
   "source": [
    "#### News Articles"
   ]
  },
  {
   "cell_type": "code",
   "execution_count": 19,
   "metadata": {},
   "outputs": [
    {
     "data": {
      "text/html": [
       "<div>\n",
       "<style scoped>\n",
       "    .dataframe tbody tr th:only-of-type {\n",
       "        vertical-align: middle;\n",
       "    }\n",
       "\n",
       "    .dataframe tbody tr th {\n",
       "        vertical-align: top;\n",
       "    }\n",
       "\n",
       "    .dataframe thead th {\n",
       "        text-align: right;\n",
       "    }\n",
       "</style>\n",
       "<table border=\"1\" class=\"dataframe\">\n",
       "  <thead>\n",
       "    <tr style=\"text-align: right;\">\n",
       "      <th></th>\n",
       "      <th>Webpage_id</th>\n",
       "      <th>Domain</th>\n",
       "      <th>Url</th>\n",
       "      <th>Tag</th>\n",
       "    </tr>\n",
       "  </thead>\n",
       "  <tbody>\n",
       "    <tr>\n",
       "      <th>0</th>\n",
       "      <td>1</td>\n",
       "      <td>www.fiercepharma.com</td>\n",
       "      <td>http://www.fiercepharma.com/marketing/tecfidera-gilenya-and-aubagio-s-3-way-battle-for-ms-share-about-to-get-more-interesting</td>\n",
       "      <td>news</td>\n",
       "    </tr>\n",
       "    <tr>\n",
       "      <th>1</th>\n",
       "      <td>2</td>\n",
       "      <td>www.fiercepharma.com</td>\n",
       "      <td>http://www.fiercepharma.com/pharma/novo-equipped-to-weather-storm-u-s-diabetes-market-ceo-says</td>\n",
       "      <td>news</td>\n",
       "    </tr>\n",
       "  </tbody>\n",
       "</table>\n",
       "</div>"
      ],
      "text/plain": [
       "   Webpage_id                Domain  \\\n",
       "0           1  www.fiercepharma.com   \n",
       "1           2  www.fiercepharma.com   \n",
       "\n",
       "                                                                                                                             Url  \\\n",
       "0  http://www.fiercepharma.com/marketing/tecfidera-gilenya-and-aubagio-s-3-way-battle-for-ms-share-about-to-get-more-interesting   \n",
       "1                                 http://www.fiercepharma.com/pharma/novo-equipped-to-weather-storm-u-s-diabetes-market-ceo-says   \n",
       "\n",
       "    Tag  \n",
       "0  news  \n",
       "1  news  "
      ]
     },
     "execution_count": 19,
     "metadata": {},
     "output_type": "execute_result"
    }
   ],
   "source": [
    "df[df['Tag'] == 'news'].head(2)"
   ]
  },
  {
   "cell_type": "markdown",
   "metadata": {},
   "source": [
    "#### Clinical Trials"
   ]
  },
  {
   "cell_type": "code",
   "execution_count": 20,
   "metadata": {},
   "outputs": [
    {
     "data": {
      "text/html": [
       "<div>\n",
       "<style scoped>\n",
       "    .dataframe tbody tr th:only-of-type {\n",
       "        vertical-align: middle;\n",
       "    }\n",
       "\n",
       "    .dataframe tbody tr th {\n",
       "        vertical-align: top;\n",
       "    }\n",
       "\n",
       "    .dataframe thead th {\n",
       "        text-align: right;\n",
       "    }\n",
       "</style>\n",
       "<table border=\"1\" class=\"dataframe\">\n",
       "  <thead>\n",
       "    <tr style=\"text-align: right;\">\n",
       "      <th></th>\n",
       "      <th>Webpage_id</th>\n",
       "      <th>Domain</th>\n",
       "      <th>Url</th>\n",
       "      <th>Tag</th>\n",
       "    </tr>\n",
       "  </thead>\n",
       "  <tbody>\n",
       "    <tr>\n",
       "      <th>30</th>\n",
       "      <td>36</td>\n",
       "      <td>upload.umin.ac.jp</td>\n",
       "      <td>https://upload.umin.ac.jp/cgi-open-bin/ctr_e/ctr_view.cgi?recptno=R000018186</td>\n",
       "      <td>clinicalTrials</td>\n",
       "    </tr>\n",
       "    <tr>\n",
       "      <th>31</th>\n",
       "      <td>39</td>\n",
       "      <td>upload.umin.ac.jp</td>\n",
       "      <td>https://upload.umin.ac.jp/cgi-open-bin/ctr_e/ctr_view.cgi?recptno=R000018428</td>\n",
       "      <td>clinicalTrials</td>\n",
       "    </tr>\n",
       "  </tbody>\n",
       "</table>\n",
       "</div>"
      ],
      "text/plain": [
       "    Webpage_id             Domain  \\\n",
       "30          36  upload.umin.ac.jp   \n",
       "31          39  upload.umin.ac.jp   \n",
       "\n",
       "                                                                             Url  \\\n",
       "30  https://upload.umin.ac.jp/cgi-open-bin/ctr_e/ctr_view.cgi?recptno=R000018186   \n",
       "31  https://upload.umin.ac.jp/cgi-open-bin/ctr_e/ctr_view.cgi?recptno=R000018428   \n",
       "\n",
       "               Tag  \n",
       "30  clinicalTrials  \n",
       "31  clinicalTrials  "
      ]
     },
     "execution_count": 20,
     "metadata": {},
     "output_type": "execute_result"
    }
   ],
   "source": [
    "df[df['Tag'] == 'clinicalTrials'].head(2)"
   ]
  },
  {
   "cell_type": "markdown",
   "metadata": {},
   "source": [
    "#### Publications"
   ]
  },
  {
   "cell_type": "code",
   "execution_count": 21,
   "metadata": {},
   "outputs": [
    {
     "data": {
      "text/html": [
       "<div>\n",
       "<style scoped>\n",
       "    .dataframe tbody tr th:only-of-type {\n",
       "        vertical-align: middle;\n",
       "    }\n",
       "\n",
       "    .dataframe tbody tr th {\n",
       "        vertical-align: top;\n",
       "    }\n",
       "\n",
       "    .dataframe thead th {\n",
       "        text-align: right;\n",
       "    }\n",
       "</style>\n",
       "<table border=\"1\" class=\"dataframe\">\n",
       "  <thead>\n",
       "    <tr style=\"text-align: right;\">\n",
       "      <th></th>\n",
       "      <th>Webpage_id</th>\n",
       "      <th>Domain</th>\n",
       "      <th>Url</th>\n",
       "      <th>Tag</th>\n",
       "    </tr>\n",
       "  </thead>\n",
       "  <tbody>\n",
       "    <tr>\n",
       "      <th>4164</th>\n",
       "      <td>6295</td>\n",
       "      <td>jvi.asm.org</td>\n",
       "      <td>http://jvi.asm.org/content/87/9/4994.long</td>\n",
       "      <td>publication</td>\n",
       "    </tr>\n",
       "    <tr>\n",
       "      <th>4165</th>\n",
       "      <td>6296</td>\n",
       "      <td>iai.asm.org</td>\n",
       "      <td>http://iai.asm.org/content/77/7/3033.long</td>\n",
       "      <td>publication</td>\n",
       "    </tr>\n",
       "  </tbody>\n",
       "</table>\n",
       "</div>"
      ],
      "text/plain": [
       "      Webpage_id       Domain                                        Url  \\\n",
       "4164        6295  jvi.asm.org  http://jvi.asm.org/content/87/9/4994.long   \n",
       "4165        6296  iai.asm.org  http://iai.asm.org/content/77/7/3033.long   \n",
       "\n",
       "              Tag  \n",
       "4164  publication  \n",
       "4165  publication  "
      ]
     },
     "execution_count": 21,
     "metadata": {},
     "output_type": "execute_result"
    }
   ],
   "source": [
    "df[df['Tag'] == 'publication'].head(2)"
   ]
  },
  {
   "cell_type": "markdown",
   "metadata": {},
   "source": [
    "#### Thesis"
   ]
  },
  {
   "cell_type": "code",
   "execution_count": 22,
   "metadata": {},
   "outputs": [
    {
     "data": {
      "text/html": [
       "<div>\n",
       "<style scoped>\n",
       "    .dataframe tbody tr th:only-of-type {\n",
       "        vertical-align: middle;\n",
       "    }\n",
       "\n",
       "    .dataframe tbody tr th {\n",
       "        vertical-align: top;\n",
       "    }\n",
       "\n",
       "    .dataframe thead th {\n",
       "        text-align: right;\n",
       "    }\n",
       "</style>\n",
       "<table border=\"1\" class=\"dataframe\">\n",
       "  <thead>\n",
       "    <tr style=\"text-align: right;\">\n",
       "      <th></th>\n",
       "      <th>Webpage_id</th>\n",
       "      <th>Domain</th>\n",
       "      <th>Url</th>\n",
       "      <th>Tag</th>\n",
       "    </tr>\n",
       "  </thead>\n",
       "  <tbody>\n",
       "    <tr>\n",
       "      <th>5118</th>\n",
       "      <td>7526</td>\n",
       "      <td>ecommons.cornell.edu</td>\n",
       "      <td>https://ecommons.cornell.edu/handle/1813/29484</td>\n",
       "      <td>thesis</td>\n",
       "    </tr>\n",
       "    <tr>\n",
       "      <th>5119</th>\n",
       "      <td>7527</td>\n",
       "      <td>ecommons.cornell.edu</td>\n",
       "      <td>https://ecommons.cornell.edu/handle/1813/11185</td>\n",
       "      <td>thesis</td>\n",
       "    </tr>\n",
       "  </tbody>\n",
       "</table>\n",
       "</div>"
      ],
      "text/plain": [
       "      Webpage_id                Domain  \\\n",
       "5118        7526  ecommons.cornell.edu   \n",
       "5119        7527  ecommons.cornell.edu   \n",
       "\n",
       "                                                 Url     Tag  \n",
       "5118  https://ecommons.cornell.edu/handle/1813/29484  thesis  \n",
       "5119  https://ecommons.cornell.edu/handle/1813/11185  thesis  "
      ]
     },
     "execution_count": 22,
     "metadata": {},
     "output_type": "execute_result"
    }
   ],
   "source": [
    "df[df['Tag'] == 'thesis'].head(2)"
   ]
  },
  {
   "cell_type": "markdown",
   "metadata": {},
   "source": [
    "#### Guidelines"
   ]
  },
  {
   "cell_type": "code",
   "execution_count": 23,
   "metadata": {},
   "outputs": [
    {
     "data": {
      "text/html": [
       "<div>\n",
       "<style scoped>\n",
       "    .dataframe tbody tr th:only-of-type {\n",
       "        vertical-align: middle;\n",
       "    }\n",
       "\n",
       "    .dataframe tbody tr th {\n",
       "        vertical-align: top;\n",
       "    }\n",
       "\n",
       "    .dataframe thead th {\n",
       "        text-align: right;\n",
       "    }\n",
       "</style>\n",
       "<table border=\"1\" class=\"dataframe\">\n",
       "  <thead>\n",
       "    <tr style=\"text-align: right;\">\n",
       "      <th></th>\n",
       "      <th>Webpage_id</th>\n",
       "      <th>Domain</th>\n",
       "      <th>Url</th>\n",
       "      <th>Tag</th>\n",
       "    </tr>\n",
       "  </thead>\n",
       "  <tbody>\n",
       "    <tr>\n",
       "      <th>6954</th>\n",
       "      <td>10201</td>\n",
       "      <td>www.nice.org.uk</td>\n",
       "      <td>https://www.nice.org.uk/guidance/indevelopment/gid-ta10173</td>\n",
       "      <td>guidelines</td>\n",
       "    </tr>\n",
       "    <tr>\n",
       "      <th>6955</th>\n",
       "      <td>10203</td>\n",
       "      <td>www.nice.org.uk</td>\n",
       "      <td>https://www.nice.org.uk/guidance/indevelopment/gid-ng10073</td>\n",
       "      <td>guidelines</td>\n",
       "    </tr>\n",
       "  </tbody>\n",
       "</table>\n",
       "</div>"
      ],
      "text/plain": [
       "      Webpage_id           Domain  \\\n",
       "6954       10201  www.nice.org.uk   \n",
       "6955       10203  www.nice.org.uk   \n",
       "\n",
       "                                                             Url         Tag  \n",
       "6954  https://www.nice.org.uk/guidance/indevelopment/gid-ta10173  guidelines  \n",
       "6955  https://www.nice.org.uk/guidance/indevelopment/gid-ng10073  guidelines  "
      ]
     },
     "execution_count": 23,
     "metadata": {},
     "output_type": "execute_result"
    }
   ],
   "source": [
    "df[df['Tag'] == 'guidelines'].head(2)"
   ]
  },
  {
   "cell_type": "markdown",
   "metadata": {},
   "source": [
    "#### Others"
   ]
  },
  {
   "cell_type": "code",
   "execution_count": 24,
   "metadata": {},
   "outputs": [
    {
     "data": {
      "text/html": [
       "<div>\n",
       "<style scoped>\n",
       "    .dataframe tbody tr th:only-of-type {\n",
       "        vertical-align: middle;\n",
       "    }\n",
       "\n",
       "    .dataframe tbody tr th {\n",
       "        vertical-align: top;\n",
       "    }\n",
       "\n",
       "    .dataframe thead th {\n",
       "        text-align: right;\n",
       "    }\n",
       "</style>\n",
       "<table border=\"1\" class=\"dataframe\">\n",
       "  <thead>\n",
       "    <tr style=\"text-align: right;\">\n",
       "      <th></th>\n",
       "      <th>Webpage_id</th>\n",
       "      <th>Domain</th>\n",
       "      <th>Url</th>\n",
       "      <th>Tag</th>\n",
       "    </tr>\n",
       "  </thead>\n",
       "  <tbody>\n",
       "    <tr>\n",
       "      <th>6970</th>\n",
       "      <td>10229</td>\n",
       "      <td>joannabriggs.org</td>\n",
       "      <td>http://joannabriggs.org/</td>\n",
       "      <td>others</td>\n",
       "    </tr>\n",
       "    <tr>\n",
       "      <th>7152</th>\n",
       "      <td>10679</td>\n",
       "      <td>www.copdx.org.au</td>\n",
       "      <td>http://copdx.org.au/</td>\n",
       "      <td>others</td>\n",
       "    </tr>\n",
       "  </tbody>\n",
       "</table>\n",
       "</div>"
      ],
      "text/plain": [
       "      Webpage_id            Domain                       Url     Tag\n",
       "6970       10229  joannabriggs.org  http://joannabriggs.org/  others\n",
       "7152       10679  www.copdx.org.au      http://copdx.org.au/  others"
      ]
     },
     "execution_count": 24,
     "metadata": {},
     "output_type": "execute_result"
    }
   ],
   "source": [
    "df[df['Tag'] == 'others'].head(2)"
   ]
  },
  {
   "cell_type": "markdown",
   "metadata": {},
   "source": [
    "* Looking at the samples, we can see that there are a few words in the URLs that are appearing consistently for each category. For example: there is the word forum for URLs of tag forum, gid for the URLs of tag guidelines and cfm for conferences. \n",
    "* This implies that it would be a good idea to actually find out the frequency of each word and use that as a feature"
   ]
  },
  {
   "cell_type": "markdown",
   "metadata": {},
   "source": [
    "### Target Exploration"
   ]
  },
  {
   "cell_type": "markdown",
   "metadata": {},
   "source": [
    "Let us look at the frequency distribution of all tags"
   ]
  },
  {
   "cell_type": "code",
   "execution_count": 25,
   "metadata": {},
   "outputs": [
    {
     "data": {
      "image/png": "[encoded data removed]",
      "text/plain": [
       "<Figure size 864x432 with 1 Axes>"
      ]
     },
     "metadata": {
      "needs_background": "light"
     },
     "output_type": "display_data"
    }
   ],
   "source": [
    "cnt_tag = df['Tag'].value_counts()\n",
    "\n",
    "plt.figure(figsize=(12,6))\n",
    "sns.barplot(cnt_tag.index, cnt_tag.values, alpha=0.8, color=color[3])\n",
    "plt.xticks(rotation='vertical')\n",
    "plt.show()"
   ]
  },
  {
   "cell_type": "markdown",
   "metadata": {},
   "source": [
    "There are 2 major categories apart from others - news and publication. Public profiles, forums and conferences lie in the next bracket."
   ]
  },
  {
   "cell_type": "markdown",
   "metadata": {},
   "source": [
    "### Understanding the common words used in the URLs: WordCloud\n",
    "\n",
    "Now I want to see how well the given sentiments are distributed across the train dataset. One way to accomplish this task is by understanding the common words by plotting wordclouds.\n",
    "\n",
    "A wordcloud is a visualization wherein the most frequent words appear in large size and the less frequent words appear in smaller sizes.\n",
    "\n",
    "Let’s visualize all the words our data using the wordcloud plot."
   ]
  },
  {
   "cell_type": "code",
   "execution_count": 2,
   "metadata": {},
   "outputs": [],
   "source": [
    "# all_words = ' '.join([text for text in df['Url']])\n",
    "# from wordcloud import WordCloud\n",
    "# wordcloud = WordCloud(width=800, height=500, random_state=21, max_font_size=110).generate(all_words)\n",
    "\n",
    "# plt.figure(figsize=(10, 7))\n",
    "# plt.imshow(wordcloud, interpolation=\"bilinear\")\n",
    "# plt.axis('off')\n",
    "# plt.show()"
   ]
  },
  {
   "cell_type": "markdown",
   "metadata": {},
   "source": [
    "Overall, most of the URLs direct to healthcare pages as can be seen from the word cloud and there are words such as thesis, edu etc. which again imply that frequency of words should be an important feature for prediction.\n",
    "\n",
    "Now, a good idea would be to create word clouds for each specific cateogry."
   ]
  },
  {
   "cell_type": "markdown",
   "metadata": {},
   "source": [
    "### Word Cloud for the tag - thesis"
   ]
  },
  {
   "cell_type": "code",
   "execution_count": 3,
   "metadata": {},
   "outputs": [],
   "source": [
    "# all_words = ' '.join([text for text in df[df['Tag'] == 'thesis']['Url']])\n",
    "# wordcloud = WordCloud(width=800, height=500, random_state=21, max_font_size=110).generate(all_words)\n",
    "\n",
    "# plt.figure(figsize=(10, 7))\n",
    "# plt.imshow(wordcloud, interpolation=\"bilinear\")\n",
    "# plt.axis('off')\n",
    "# plt.show()"
   ]
  },
  {
   "cell_type": "markdown",
   "metadata": {},
   "source": [
    "---wordcloud--"
   ]
  },
  {
   "cell_type": "markdown",
   "metadata": {},
   "source": [
    "### Feature Extraction\n",
    "Here we simply have domain and URL and these are neither numeric nor categorical variable as each URL is unique. \n",
    "\n",
    "We would need to extract information from text to create features and build a classifier."
   ]
  },
  {
   "cell_type": "markdown",
   "metadata": {},
   "source": [
    "The URLs in the dataset can be considered as a single string since the words in the URL have no spaces. Instead, there are 2 types of separators here '/' and '-'. We can replace these by spaces and we can get individual words this way."
   ]
  },
  {
   "cell_type": "code",
   "execution_count": 26,
   "metadata": {},
   "outputs": [],
   "source": [
    "def clean_url(df):\n",
    "    df[\"Url\"] = df[\"Url\"].str.replace(\"/\", \" \")\n",
    "    df[\"Url\"] = df[\"Url\"].str.replace(\"-\", \" \")\n",
    "    df[\"Url\"] = df[\"Url\"].str.replace(\"https:\", \"\")\n",
    "    df[\"Url\"] = df[\"Url\"].str.replace(\"http:\", \"\")\n",
    "    return df"
   ]
  },
  {
   "cell_type": "code",
   "execution_count": 27,
   "metadata": {},
   "outputs": [],
   "source": [
    "df = clean_url(df)"
   ]
  },
  {
   "cell_type": "code",
   "execution_count": 28,
   "metadata": {},
   "outputs": [
    {
     "data": {
      "text/html": [
       "<div>\n",
       "<style scoped>\n",
       "    .dataframe tbody tr th:only-of-type {\n",
       "        vertical-align: middle;\n",
       "    }\n",
       "\n",
       "    .dataframe tbody tr th {\n",
       "        vertical-align: top;\n",
       "    }\n",
       "\n",
       "    .dataframe thead th {\n",
       "        text-align: right;\n",
       "    }\n",
       "</style>\n",
       "<table border=\"1\" class=\"dataframe\">\n",
       "  <thead>\n",
       "    <tr style=\"text-align: right;\">\n",
       "      <th></th>\n",
       "      <th>Webpage_id</th>\n",
       "      <th>Domain</th>\n",
       "      <th>Url</th>\n",
       "      <th>Tag</th>\n",
       "    </tr>\n",
       "  </thead>\n",
       "  <tbody>\n",
       "    <tr>\n",
       "      <th>0</th>\n",
       "      <td>1</td>\n",
       "      <td>www.fiercepharma.com</td>\n",
       "      <td>www.fiercepharma.com marketing tecfidera gilenya and aubagio s 3 way battle for ms share about to get more interesting</td>\n",
       "      <td>news</td>\n",
       "    </tr>\n",
       "    <tr>\n",
       "      <th>1</th>\n",
       "      <td>2</td>\n",
       "      <td>www.fiercepharma.com</td>\n",
       "      <td>www.fiercepharma.com pharma novo equipped to weather storm u s diabetes market ceo says</td>\n",
       "      <td>news</td>\n",
       "    </tr>\n",
       "    <tr>\n",
       "      <th>2</th>\n",
       "      <td>3</td>\n",
       "      <td>www.fiercepharma.com</td>\n",
       "      <td>www.fiercepharma.com pharma another exec departs troubled endo and time it s for another drugmaker</td>\n",
       "      <td>news</td>\n",
       "    </tr>\n",
       "    <tr>\n",
       "      <th>3</th>\n",
       "      <td>4</td>\n",
       "      <td>www.fiercepharma.com</td>\n",
       "      <td>www.fiercepharma.com pharma teva buy biosim specialist celltrion it wouldn t say no</td>\n",
       "      <td>news</td>\n",
       "    </tr>\n",
       "    <tr>\n",
       "      <th>4</th>\n",
       "      <td>5</td>\n",
       "      <td>www.fiercepharma.com</td>\n",
       "      <td>www.fiercepharma.com marketing actress marissa tomei partners allergan restasis to drive dry eye awareness</td>\n",
       "      <td>news</td>\n",
       "    </tr>\n",
       "  </tbody>\n",
       "</table>\n",
       "</div>"
      ],
      "text/plain": [
       "   Webpage_id                Domain  \\\n",
       "0           1  www.fiercepharma.com   \n",
       "1           2  www.fiercepharma.com   \n",
       "2           3  www.fiercepharma.com   \n",
       "3           4  www.fiercepharma.com   \n",
       "4           5  www.fiercepharma.com   \n",
       "\n",
       "                                                                                                                        Url  \\\n",
       "0    www.fiercepharma.com marketing tecfidera gilenya and aubagio s 3 way battle for ms share about to get more interesting   \n",
       "1                                   www.fiercepharma.com pharma novo equipped to weather storm u s diabetes market ceo says   \n",
       "2                        www.fiercepharma.com pharma another exec departs troubled endo and time it s for another drugmaker   \n",
       "3                                       www.fiercepharma.com pharma teva buy biosim specialist celltrion it wouldn t say no   \n",
       "4                www.fiercepharma.com marketing actress marissa tomei partners allergan restasis to drive dry eye awareness   \n",
       "\n",
       "    Tag  \n",
       "0  news  \n",
       "1  news  \n",
       "2  news  \n",
       "3  news  \n",
       "4  news  "
      ]
     },
     "execution_count": 28,
     "metadata": {},
     "output_type": "execute_result"
    }
   ],
   "source": [
    "df.head(5)"
   ]
  },
  {
   "cell_type": "markdown",
   "metadata": {},
   "source": [
    "### Feature Extraction\n",
    "\n",
    "Now, that we have tokenised the words and done necessary cleaning. It is time to convert these to features. I have done this through :\n",
    "* Bag of Words\n",
    "* TFIDF (Term Frequency Inverse Document Frequency)\n",
    "\n",
    "Sklearn provides functionality for both. Let's use that to create these features."
   ]
  },
  {
   "cell_type": "markdown",
   "metadata": {},
   "source": [
    "### Bag-of-Words Features\n",
    "\n",
    "The URL has has lot of abbreviations and for the same words so it could be a good idea to use create bag of word features from characters as well.\n",
    "\n",
    "<img src = \"image 2.png\">"
   ]
  },
  {
   "cell_type": "code",
   "execution_count": 29,
   "metadata": {},
   "outputs": [],
   "source": [
    "# Word and character BOW on URLs\n",
    "vec_bow = CountVectorizer(ngram_range=(1, 3), min_df=400)\n",
    "vec_bow.fit(df['Url'])\n",
    "Url_bow = vec_bow.transform(df['Url'])"
   ]
  },
  {
   "cell_type": "markdown",
   "metadata": {},
   "source": [
    "If you look at the documentation for Sklearn feature extraction, you will see that:\n",
    "* ngram_range helps to define the range of n for the ngrams\n",
    "* When building the vocabulary ignore terms that have a document frequency strictly lower than the given threshold min_df"
   ]
  },
  {
   "cell_type": "markdown",
   "metadata": {},
   "source": [
    "## Model BuildingW\n",
    "This is a multi-class classification problem and the metric that we will use here is weighted F1-Score.Weighted F1 score basically assigns weights proportional to the class frequency in the train set. "
   ]
  },
  {
   "cell_type": "markdown",
   "metadata": {},
   "source": [
    "## Train Test Split\n",
    "\n",
    "Randomly spliting the dataset into train and test and checking performance will not be correct for this problem. Here's why:\n",
    "\n",
    "Let's say we have a domain ecommons.cornell.edu. This is basically Cornell University's digital repository and predominantly contain thesis class. Now, if this domain (ecommons.cornell.edu) and class (thesis) combination are contained in both train and test. Just on the basis of domain I can predict the class to be thesis but this model would not be useful and would not generalise well on let's say new thesis by a different domain.\n",
    "\n",
    "The Solution?\n",
    "\n",
    "\n",
    "The train and test data split should done based on Domain-Tag combination, such that no 2 URLs for the same class and domain are kept in the train and test respectively because in that case domain can be directly mapped to the tag and that would be a leakage.\n"
   ]
  },
  {
   "cell_type": "markdown",
   "metadata": {},
   "source": [
    "## Model Validation"
   ]
  },
  {
   "cell_type": "markdown",
   "metadata": {},
   "source": [
    "For implementing the above logic. We will use Group K-Fold from Sklearn. In group K-Fold, the same group will not appear in two different folds. The folds are approximately balanced in the sense that the number of distinct groups is approximately the same in each fold."
   ]
  },
  {
   "cell_type": "code",
   "execution_count": 30,
   "metadata": {},
   "outputs": [],
   "source": [
    "# Replicate train/test split strategy for cross validation\n",
    "df[\"target_str\"] = df[\"Domain\"].astype(str) + '_' + df[\"Tag\"].astype(str)\n",
    "cvlist = list(GroupKFold(5).split(df, groups=df[\"target_str\"]))"
   ]
  },
  {
   "cell_type": "code",
   "execution_count": 31,
   "metadata": {},
   "outputs": [
    {
     "data": {
      "text/plain": [
       "0    www.fiercepharma.com_news\n",
       "1    www.fiercepharma.com_news\n",
       "2    www.fiercepharma.com_news\n",
       "3    www.fiercepharma.com_news\n",
       "4    www.fiercepharma.com_news\n",
       "Name: target_str, dtype: object"
      ]
     },
     "execution_count": 31,
     "metadata": {},
     "output_type": "execute_result"
    }
   ],
   "source": [
    "df[\"target_str\"].head()"
   ]
  },
  {
   "cell_type": "code",
   "execution_count": 32,
   "metadata": {},
   "outputs": [
    {
     "data": {
      "text/plain": [
       "[(array([    0,     1,     2, ..., 53226, 53227, 53228]),\n",
       "  array([   35,    36,    37, ..., 53095, 53096, 53097])),\n",
       " (array([    0,     1,     2, ..., 53226, 53227, 53228]),\n",
       "  array([   92,    93,    94, ..., 52815, 52816, 52817])),\n",
       " (array([    0,     1,     2, ..., 53226, 53227, 53228]),\n",
       "  array([   34,    39,    55, ..., 53213, 53215, 53216])),\n",
       " (array([    0,     1,     2, ..., 53213, 53215, 53216]),\n",
       "  array([   38,    58,   146, ..., 53226, 53227, 53228])),\n",
       " (array([   34,    35,    36, ..., 53226, 53227, 53228]),\n",
       "  array([    0,     1,     2, ..., 53025, 53026, 53027]))]"
      ]
     },
     "execution_count": 32,
     "metadata": {},
     "output_type": "execute_result"
    }
   ],
   "source": [
    "cvlist"
   ]
  },
  {
   "cell_type": "markdown",
   "metadata": {},
   "source": [
    "#### Convert tags from strings to numbers"
   ]
  },
  {
   "cell_type": "code",
   "execution_count": 33,
   "metadata": {},
   "outputs": [],
   "source": [
    "X = Url_bow\n",
    "\n",
    "TAG_DICT = {\"others\":1, \"news\": 2, \"publication\":3, \"profile\": 4,\n",
    "            \"conferences\": 5, \"forum\": 6, \"clinicalTrials\": 7,\n",
    "            \"thesis\": 8, \"guidelines\": 9}\n",
    "\n",
    "df['target'] = df.Tag.map(TAG_DICT)\n",
    "y = df[\"target\"].values"
   ]
  },
  {
   "cell_type": "code",
   "execution_count": 34,
   "metadata": {},
   "outputs": [],
   "source": [
    "def cv_score(ml_model, df):\n",
    "    i = 1\n",
    "    cv_scores = []\n",
    "    X = df\n",
    "    \n",
    "    # Custom Cross validation based on group KFold\n",
    "    for df_index,test_index in cvlist:\n",
    "        print('\\n{} of Group kfold {}'.format(i,5))\n",
    "        xtr,xvl = X[df_index],X[test_index]\n",
    "        ytr,yvl = y[df_index],y[test_index]\n",
    "            \n",
    "        # Define model for fitting on the training set for each fold\n",
    "        model = ml_model\n",
    "        model.fit(xtr, ytr)\n",
    "        pred_probs = model.predict_proba(xvl)\n",
    "        label_preds = np.argmax(pred_probs, axis=1) + 1\n",
    "        \n",
    "        # Calculate scores for each fold and print\n",
    "        score = f1_score(yvl, label_preds, average=\"weighted\")\n",
    "        sufix = \"\"\n",
    "        msg = \"\"\n",
    "        msg += \"Weighted F1 Score: {}\".format(score)\n",
    "        print(\"{}\".format(msg))\n",
    "         \n",
    "         # Save scores\n",
    "        cv_scores.append(score)\n",
    "        i+=1\n",
    "    return cv_scores"
   ]
  },
  {
   "cell_type": "markdown",
   "metadata": {},
   "source": [
    "### Naive Bayes"
   ]
  },
  {
   "cell_type": "code",
   "execution_count": 35,
   "metadata": {
    "scrolled": true
   },
   "outputs": [
    {
     "name": "stdout",
     "output_type": "stream",
     "text": [
      "\n",
      "1 of Group kfold 5\n",
      "Weighted F1 Score: 0.5956128341766787\n",
      "\n",
      "2 of Group kfold 5\n",
      "Weighted F1 Score: 0.633705111236572\n",
      "\n",
      "3 of Group kfold 5\n",
      "Weighted F1 Score: 0.5840241700440744\n",
      "\n",
      "4 of Group kfold 5\n",
      "Weighted F1 Score: 0.6726147439623907\n",
      "\n",
      "5 of Group kfold 5\n",
      "Weighted F1 Score: 0.685451579382621\n"
     ]
    },
    {
     "data": {
      "text/plain": [
       "[0.5956128341766787,\n",
       " 0.633705111236572,\n",
       " 0.5840241700440744,\n",
       " 0.6726147439623907,\n",
       " 0.685451579382621]"
      ]
     },
     "execution_count": 35,
     "metadata": {},
     "output_type": "execute_result"
    }
   ],
   "source": [
    "cv_score(MultinomialNB(alpha=.01), Url_bow)"
   ]
  },
  {
   "cell_type": "markdown",
   "metadata": {},
   "source": [
    "### Character N-Grams\n",
    "\n",
    "These scores are low. Since, the URLs are not regular sentences. It would be a good idea to also build features using character ngrams as well. \n",
    "\n",
    "For sequences of characters, the 3-grams that can be generated from \"good morning\" are \"goo\", \"ood\", \"od \", \"d m\", \" mo\", \"mor\"\n",
    "\n",
    "Let's do that and check performance again."
   ]
  },
  {
   "cell_type": "code",
   "execution_count": 36,
   "metadata": {},
   "outputs": [],
   "source": [
    "# Word and character BOW on URLs\n",
    "vec1 = CountVectorizer(analyzer='char', ngram_range=(1, 5), min_df=500)\n",
    "vec2 = CountVectorizer(analyzer='word', ngram_range=(1, 3), min_df=400)\n",
    "vec_bow = FeatureUnion([(\"char\", vec1), (\"word\", vec2)])\n",
    "vec_bow.fit(df['Url'])\n",
    "Url_bow = vec_bow.transform(df['Url'])"
   ]
  },
  {
   "cell_type": "code",
   "execution_count": 37,
   "metadata": {},
   "outputs": [
    {
     "name": "stdout",
     "output_type": "stream",
     "text": [
      "\n",
      "1 of Group kfold 5\n",
      "Weighted F1 Score: 0.6762799783456942\n",
      "\n",
      "2 of Group kfold 5\n",
      "Weighted F1 Score: 0.6850809337506776\n",
      "\n",
      "3 of Group kfold 5\n",
      "Weighted F1 Score: 0.688822967439938\n",
      "\n",
      "4 of Group kfold 5\n",
      "Weighted F1 Score: 0.7216948488261381\n",
      "\n",
      "5 of Group kfold 5\n",
      "Weighted F1 Score: 0.704485742627938\n"
     ]
    },
    {
     "data": {
      "text/plain": [
       "[0.6762799783456942,\n",
       " 0.6850809337506776,\n",
       " 0.688822967439938,\n",
       " 0.7216948488261381,\n",
       " 0.704485742627938]"
      ]
     },
     "execution_count": 37,
     "metadata": {},
     "output_type": "execute_result"
    }
   ],
   "source": [
    "cv_score(MultinomialNB(alpha=.01), Url_bow)"
   ]
  },
  {
   "cell_type": "markdown",
   "metadata": {},
   "source": [
    "We see significant improvement by using the character N-Grams. Now, lets try the TFIDF features"
   ]
  },
  {
   "cell_type": "markdown",
   "metadata": {},
   "source": [
    "### TFIDF Features"
   ]
  },
  {
   "cell_type": "code",
   "execution_count": 38,
   "metadata": {},
   "outputs": [],
   "source": [
    "# Word and character TFIDF on URLs\n",
    "vec1 = TfidfVectorizer(analyzer='char', ngram_range=(1, 5), min_df=500)\n",
    "vec2 = TfidfVectorizer(analyzer='word', ngram_range=(1, 3), min_df=400)\n",
    "vec_tfidf = FeatureUnion([(\"char\", vec1), (\"word\", vec2)])\n",
    "vec_tfidf.fit(df['Url'])\n",
    "Url_tfidf = vec_tfidf.transform(df['Url'])"
   ]
  },
  {
   "cell_type": "code",
   "execution_count": 39,
   "metadata": {},
   "outputs": [
    {
     "name": "stdout",
     "output_type": "stream",
     "text": [
      "\n",
      "1 of Group kfold 5\n",
      "Weighted F1 Score: 0.709831531814438\n",
      "\n",
      "2 of Group kfold 5\n",
      "Weighted F1 Score: 0.7028857528401553\n",
      "\n",
      "3 of Group kfold 5\n",
      "Weighted F1 Score: 0.7140138082517805\n",
      "\n",
      "4 of Group kfold 5\n",
      "Weighted F1 Score: 0.7474394007453241\n",
      "\n",
      "5 of Group kfold 5\n",
      "Weighted F1 Score: 0.7294679427204096\n"
     ]
    }
   ],
   "source": [
    "nb = cv_score(MultinomialNB(alpha=.01), Url_tfidf)"
   ]
  },
  {
   "cell_type": "markdown",
   "metadata": {},
   "source": [
    "### Logistic Regression\n",
    "\n",
    "We are getting better performance from TFIDF features. Let's go with that and try logistic regression now. Here, I have used class weight as balanced. This specifically changes the weights of samples inversely proportional to theit frequency meaning the classes which have less number of samples will have more weight."
   ]
  },
  {
   "cell_type": "code",
   "execution_count": 40,
   "metadata": {},
   "outputs": [
    {
     "name": "stdout",
     "output_type": "stream",
     "text": [
      "\n",
      "1 of Group kfold 5\n",
      "Weighted F1 Score: 0.710486661136724\n",
      "\n",
      "2 of Group kfold 5\n",
      "Weighted F1 Score: 0.7476073359679621\n",
      "\n",
      "3 of Group kfold 5\n",
      "Weighted F1 Score: 0.7447959445222704\n",
      "\n",
      "4 of Group kfold 5\n",
      "Weighted F1 Score: 0.8078127129527103\n",
      "\n",
      "5 of Group kfold 5\n",
      "Weighted F1 Score: 0.8055615421382893\n"
     ]
    }
   ],
   "source": [
    "log_reg = cv_score(LogisticRegression(C=0.1,class_weight=\"balanced\"), Url_tfidf)"
   ]
  },
  {
   "cell_type": "markdown",
   "metadata": {},
   "source": [
    "### Tree Based Methods\n",
    "Lastly, I have tried some tree based models:"
   ]
  },
  {
   "cell_type": "markdown",
   "metadata": {},
   "source": [
    "### Decision Tree"
   ]
  },
  {
   "cell_type": "code",
   "execution_count": 41,
   "metadata": {},
   "outputs": [
    {
     "name": "stdout",
     "output_type": "stream",
     "text": [
      "\n",
      "1 of Group kfold 5\n",
      "Weighted F1 Score: 0.5849537454253815\n",
      "\n",
      "2 of Group kfold 5\n",
      "Weighted F1 Score: 0.6235553670389336\n",
      "\n",
      "3 of Group kfold 5\n",
      "Weighted F1 Score: 0.6040742234694292\n",
      "\n",
      "4 of Group kfold 5\n",
      "Weighted F1 Score: 0.6272036174390265\n",
      "\n",
      "5 of Group kfold 5\n",
      "Weighted F1 Score: 0.6422625685214577\n"
     ]
    }
   ],
   "source": [
    "dtree = cv_score(DecisionTreeClassifier(min_samples_leaf=20, min_samples_split=20), Url_tfidf) #haven't hypertuned yet"
   ]
  },
  {
   "cell_type": "markdown",
   "metadata": {},
   "source": [
    "### Random Forest"
   ]
  },
  {
   "cell_type": "code",
   "execution_count": 42,
   "metadata": {},
   "outputs": [
    {
     "name": "stdout",
     "output_type": "stream",
     "text": [
      "\n",
      "1 of Group kfold 5\n",
      "Weighted F1 Score: 0.6606028719369305\n",
      "\n",
      "2 of Group kfold 5\n",
      "Weighted F1 Score: 0.6788263035907093\n",
      "\n",
      "3 of Group kfold 5\n",
      "Weighted F1 Score: 0.6459859779651346\n",
      "\n",
      "4 of Group kfold 5\n",
      "Weighted F1 Score: 0.7276128735459069\n",
      "\n",
      "5 of Group kfold 5\n",
      "Weighted F1 Score: 0.7319454872882054\n"
     ]
    }
   ],
   "source": [
    "rf_params = {'random_state': 0, 'n_jobs': -1, 'n_estimators': 100, 'max_depth': 50, 'n_jobs': -1}\n",
    "rf = cv_score(RandomForestClassifier(**rf_params), Url_tfidf)"
   ]
  },
  {
   "cell_type": "code",
   "execution_count": 43,
   "metadata": {
    "scrolled": true
   },
   "outputs": [
    {
     "data": {
      "image/png": "[encoded data removed]",
      "text/plain": [
       "<Figure size 432x288 with 1 Axes>"
      ]
     },
     "metadata": {
      "needs_background": "light"
     },
     "output_type": "display_data"
    }
   ],
   "source": [
    "results_df = pd.DataFrame({'Random Forest':rf, 'Decision Tree': dtree, 'Logistic Regression': log_reg, 'Naive Bayes':nb})\n",
    "results_df.plot(y=[\"Random Forest\", \"Decision Tree\",\"Logistic Regression\",\"Naive Bayes\"], kind=\"bar\")\n",
    "plt.legend(bbox_to_anchor=(1.05, 1), loc=2, borderaxespad=0.)\n",
    "plt.show()"
   ]
  },
  {
   "cell_type": "markdown",
   "metadata": {},
   "source": [
    "### Conclusions\n",
    "* Logistic Regression is getting the best performance.\n",
    "* Interestingly Tree Based methods are performing badly.\n",
    "* The scores are not very stable due to the large number of classes and few samples"
   ]
  }
 ],
 "metadata": {
  "kernelspec": {
   "display_name": "Python 3",
   "language": "python",
   "name": "python3"
  },
  "language_info": {
   "codemirror_mode": {
    "name": "ipython",
    "version": 3
   },
   "file_extension": ".py",
   "mimetype": "text/x-python",
   "name": "python",
   "nbconvert_exporter": "python",
   "pygments_lexer": "ipython3",
   "version": "3.5.2"
  }
 },
 "nbformat": 4,
 "nbformat_minor": 2
}
